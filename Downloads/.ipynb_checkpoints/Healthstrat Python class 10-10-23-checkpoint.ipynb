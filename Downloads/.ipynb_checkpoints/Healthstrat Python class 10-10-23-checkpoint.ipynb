{
 "cells": [
  {
   "cell_type": "code",
   "execution_count": 2,
   "id": "ca813790",
   "metadata": {},
   "outputs": [
    {
     "name": "stdout",
     "output_type": "stream",
     "text": [
      "Hello World\n"
     ]
    }
   ],
   "source": [
    "print('Hello World')"
   ]
  },
  {
   "cell_type": "code",
   "execution_count": 3,
   "id": "fee4939e",
   "metadata": {},
   "outputs": [
    {
     "name": "stdout",
     "output_type": "stream",
     "text": [
      "2\n"
     ]
    }
   ],
   "source": [
    "print(1+1)"
   ]
  },
  {
   "cell_type": "code",
   "execution_count": 4,
   "id": "27512c7e",
   "metadata": {},
   "outputs": [
    {
     "name": "stdout",
     "output_type": "stream",
     "text": [
      "10.0\n"
     ]
    }
   ],
   "source": [
    "print(90/9)"
   ]
  },
  {
   "cell_type": "code",
   "execution_count": 5,
   "id": "6be16ca5",
   "metadata": {},
   "outputs": [
    {
     "name": "stdout",
     "output_type": "stream",
     "text": [
      "8\n"
     ]
    }
   ],
   "source": [
    "print(2*4)"
   ]
  },
  {
   "cell_type": "markdown",
   "id": "93a64d5f",
   "metadata": {},
   "source": [
    "# Variable Types"
   ]
  },
  {
   "cell_type": "markdown",
   "id": "6ede5fe9",
   "metadata": {},
   "source": [
    "Strings (str) - Is anything that is found in **between two quotation marks** e.g \"Hello World\"\\\n",
    "Integers (int)- Is any **real** and **whole number**\\\n",
    "Floats (float)- Is any **Fraction** of a number\\\n",
    "Boolean (bool)- Represents the Binary state of either **True** or **False** \n"
   ]
  },
  {
   "cell_type": "code",
   "execution_count": 8,
   "id": "7253b3de",
   "metadata": {},
   "outputs": [
    {
     "data": {
      "text/plain": [
       "str"
      ]
     },
     "execution_count": 8,
     "metadata": {},
     "output_type": "execute_result"
    }
   ],
   "source": [
    "type('Hello World')"
   ]
  },
  {
   "cell_type": "code",
   "execution_count": 9,
   "id": "d3502060",
   "metadata": {},
   "outputs": [
    {
     "data": {
      "text/plain": [
       "int"
      ]
     },
     "execution_count": 9,
     "metadata": {},
     "output_type": "execute_result"
    }
   ],
   "source": [
    "type(1)"
   ]
  },
  {
   "cell_type": "code",
   "execution_count": 10,
   "id": "1194e2e3",
   "metadata": {},
   "outputs": [
    {
     "data": {
      "text/plain": [
       "float"
      ]
     },
     "execution_count": 10,
     "metadata": {},
     "output_type": "execute_result"
    }
   ],
   "source": [
    "type(2.5)"
   ]
  },
  {
   "cell_type": "code",
   "execution_count": 13,
   "id": "63f0a67e",
   "metadata": {},
   "outputs": [
    {
     "data": {
      "text/plain": [
       "bool"
      ]
     },
     "execution_count": 13,
     "metadata": {},
     "output_type": "execute_result"
    }
   ],
   "source": [
    "type(False)"
   ]
  },
  {
   "cell_type": "code",
   "execution_count": 18,
   "id": "cf03f796",
   "metadata": {},
   "outputs": [
    {
     "data": {
      "text/plain": [
       "int"
      ]
     },
     "execution_count": 18,
     "metadata": {},
     "output_type": "execute_result"
    }
   ],
   "source": [
    "type(int('3'))"
   ]
  },
  {
   "cell_type": "code",
   "execution_count": 20,
   "id": "1391c745",
   "metadata": {},
   "outputs": [
    {
     "data": {
      "text/plain": [
       "4.0"
      ]
     },
     "execution_count": 20,
     "metadata": {},
     "output_type": "execute_result"
    }
   ],
   "source": [
    "float(4)"
   ]
  },
  {
   "cell_type": "code",
   "execution_count": 23,
   "id": "4a572da1",
   "metadata": {},
   "outputs": [
    {
     "data": {
      "text/plain": [
       "str"
      ]
     },
     "execution_count": 23,
     "metadata": {},
     "output_type": "execute_result"
    }
   ],
   "source": [
    "type(str(float(7)))"
   ]
  },
  {
   "cell_type": "code",
   "execution_count": 24,
   "id": "879c480f",
   "metadata": {},
   "outputs": [
    {
     "data": {
      "text/plain": [
       "bool"
      ]
     },
     "execution_count": 24,
     "metadata": {},
     "output_type": "execute_result"
    }
   ],
   "source": [
    "type(True)"
   ]
  },
  {
   "cell_type": "code",
   "execution_count": 28,
   "id": "2662a378",
   "metadata": {},
   "outputs": [
    {
     "data": {
      "text/plain": [
       "False"
      ]
     },
     "execution_count": 28,
     "metadata": {},
     "output_type": "execute_result"
    }
   ],
   "source": [
    "bool(False)"
   ]
  },
  {
   "cell_type": "code",
   "execution_count": 29,
   "id": "5426c8c1",
   "metadata": {},
   "outputs": [
    {
     "data": {
      "text/plain": [
       "False"
      ]
     },
     "execution_count": 29,
     "metadata": {},
     "output_type": "execute_result"
    }
   ],
   "source": [
    "bool()"
   ]
  },
  {
   "cell_type": "code",
   "execution_count": 32,
   "id": "f6b15a47",
   "metadata": {},
   "outputs": [
    {
     "data": {
      "text/plain": [
       "True"
      ]
     },
     "execution_count": 32,
     "metadata": {},
     "output_type": "execute_result"
    }
   ],
   "source": [
    "bool('False')"
   ]
  },
  {
   "cell_type": "code",
   "execution_count": 33,
   "id": "392e219f",
   "metadata": {},
   "outputs": [
    {
     "data": {
      "text/plain": [
       "True"
      ]
     },
     "execution_count": 33,
     "metadata": {},
     "output_type": "execute_result"
    }
   ],
   "source": [
    "bool('90')"
   ]
  },
  {
   "cell_type": "code",
   "execution_count": 35,
   "id": "8a75b35d",
   "metadata": {},
   "outputs": [
    {
     "data": {
      "text/plain": [
       "True"
      ]
     },
     "execution_count": 35,
     "metadata": {},
     "output_type": "execute_result"
    }
   ],
   "source": [
    "bool('9.0')"
   ]
  },
  {
   "cell_type": "code",
   "execution_count": 36,
   "id": "44a02dfe",
   "metadata": {},
   "outputs": [
    {
     "data": {
      "text/plain": [
       "False"
      ]
     },
     "execution_count": 36,
     "metadata": {},
     "output_type": "execute_result"
    }
   ],
   "source": [
    "bool()"
   ]
  },
  {
   "cell_type": "code",
   "execution_count": 37,
   "id": "0693cf36",
   "metadata": {},
   "outputs": [
    {
     "data": {
      "text/plain": [
       "False"
      ]
     },
     "execution_count": 37,
     "metadata": {},
     "output_type": "execute_result"
    }
   ],
   "source": [
    "bool(False)"
   ]
  },
  {
   "cell_type": "markdown",
   "id": "b537fc37",
   "metadata": {},
   "source": [
    "## Operators\n",
    "- Assignment Operator\n",
    "- Mathematical Operators"
   ]
  },
  {
   "cell_type": "code",
   "execution_count": 8,
   "id": "795af397",
   "metadata": {},
   "outputs": [],
   "source": [
    "Integers = 9"
   ]
  },
  {
   "cell_type": "code",
   "execution_count": 7,
   "id": "86d5df85",
   "metadata": {},
   "outputs": [],
   "source": [
    "Integer = 10"
   ]
  },
  {
   "cell_type": "code",
   "execution_count": 9,
   "id": "ecd53828",
   "metadata": {},
   "outputs": [
    {
     "name": "stdout",
     "output_type": "stream",
     "text": [
      "9\n",
      "10\n"
     ]
    }
   ],
   "source": [
    "print(Integers)\n",
    "print(Integer)"
   ]
  },
  {
   "cell_type": "code",
   "execution_count": 10,
   "id": "f19ee00f",
   "metadata": {},
   "outputs": [
    {
     "ename": "SyntaxError",
     "evalue": "invalid syntax (<ipython-input-10-4c068c8e3076>, line 1)",
     "output_type": "error",
     "traceback": [
      "\u001b[1;36m  File \u001b[1;32m\"<ipython-input-10-4c068c8e3076>\"\u001b[1;36m, line \u001b[1;32m1\u001b[0m\n\u001b[1;33m    Number floats = 89.01\u001b[0m\n\u001b[1;37m                ^\u001b[0m\n\u001b[1;31mSyntaxError\u001b[0m\u001b[1;31m:\u001b[0m invalid syntax\n"
     ]
    }
   ],
   "source": [
    "Number floats = 89.01"
   ]
  },
  {
   "cell_type": "code",
   "execution_count": 11,
   "id": "f1b5f193",
   "metadata": {},
   "outputs": [],
   "source": [
    "Number_floats = 89.01"
   ]
  },
  {
   "cell_type": "code",
   "execution_count": 12,
   "id": "979a948e",
   "metadata": {},
   "outputs": [],
   "source": [
    "names = 'Alvin'"
   ]
  },
  {
   "cell_type": "code",
   "execution_count": 13,
   "id": "1b791daf",
   "metadata": {},
   "outputs": [
    {
     "name": "stdout",
     "output_type": "stream",
     "text": [
      "Alvin\n"
     ]
    }
   ],
   "source": [
    "print(names)"
   ]
  },
  {
   "cell_type": "code",
   "execution_count": 14,
   "id": "ac2f8b88",
   "metadata": {},
   "outputs": [
    {
     "data": {
      "text/plain": [
       "str"
      ]
     },
     "execution_count": 14,
     "metadata": {},
     "output_type": "execute_result"
    }
   ],
   "source": [
    "type(names)"
   ]
  },
  {
   "cell_type": "code",
   "execution_count": 15,
   "id": "276dfd76",
   "metadata": {},
   "outputs": [
    {
     "data": {
      "text/plain": [
       "int"
      ]
     },
     "execution_count": 15,
     "metadata": {},
     "output_type": "execute_result"
    }
   ],
   "source": [
    "type(Integers)"
   ]
  },
  {
   "cell_type": "code",
   "execution_count": 16,
   "id": "a4fe0331",
   "metadata": {},
   "outputs": [
    {
     "data": {
      "text/plain": [
       "float"
      ]
     },
     "execution_count": 16,
     "metadata": {},
     "output_type": "execute_result"
    }
   ],
   "source": [
    "type(Number_floats)"
   ]
  },
  {
   "cell_type": "markdown",
   "id": "aac4e2ca",
   "metadata": {},
   "source": [
    "### Mathematical Operators\n",
    "- Addition\n",
    "- Subtraction\n",
    "- Multiplication\n",
    "- Division\n",
    "- Integer Division\n",
    "- Modulus Operator"
   ]
  },
  {
   "cell_type": "code",
   "execution_count": 17,
   "id": "ad1880c8",
   "metadata": {},
   "outputs": [],
   "source": [
    "N1= 1\n",
    "n2 = 2"
   ]
  },
  {
   "cell_type": "code",
   "execution_count": 18,
   "id": "0b0924cf",
   "metadata": {},
   "outputs": [
    {
     "data": {
      "text/plain": [
       "3"
      ]
     },
     "execution_count": 18,
     "metadata": {},
     "output_type": "execute_result"
    }
   ],
   "source": [
    "N1+n2"
   ]
  },
  {
   "cell_type": "code",
   "execution_count": 19,
   "id": "a133f40c",
   "metadata": {},
   "outputs": [
    {
     "data": {
      "text/plain": [
       "1"
      ]
     },
     "execution_count": 19,
     "metadata": {},
     "output_type": "execute_result"
    }
   ],
   "source": [
    "n2-N1"
   ]
  },
  {
   "cell_type": "code",
   "execution_count": 20,
   "id": "5b43a177",
   "metadata": {},
   "outputs": [
    {
     "data": {
      "text/plain": [
       "2"
      ]
     },
     "execution_count": 20,
     "metadata": {},
     "output_type": "execute_result"
    }
   ],
   "source": [
    "N1*n2"
   ]
  },
  {
   "cell_type": "code",
   "execution_count": 21,
   "id": "4984c1c4",
   "metadata": {},
   "outputs": [
    {
     "data": {
      "text/plain": [
       "0.3333333333333333"
      ]
     },
     "execution_count": 21,
     "metadata": {},
     "output_type": "execute_result"
    }
   ],
   "source": [
    "(n2-N1)/(N1+n2)"
   ]
  },
  {
   "cell_type": "code",
   "execution_count": 22,
   "id": "5364e50d",
   "metadata": {},
   "outputs": [],
   "source": [
    "N3 = 89\n",
    "n4 = 3"
   ]
  },
  {
   "cell_type": "code",
   "execution_count": 23,
   "id": "25b36a6f",
   "metadata": {},
   "outputs": [
    {
     "data": {
      "text/plain": [
       "29.666666666666668"
      ]
     },
     "execution_count": 23,
     "metadata": {},
     "output_type": "execute_result"
    }
   ],
   "source": [
    "N3/n4"
   ]
  },
  {
   "cell_type": "code",
   "execution_count": 24,
   "id": "db7342c7",
   "metadata": {},
   "outputs": [
    {
     "data": {
      "text/plain": [
       "29"
      ]
     },
     "execution_count": 24,
     "metadata": {},
     "output_type": "execute_result"
    }
   ],
   "source": [
    "# Integer Division - carries out Truncation\n",
    "\n",
    "N3//n4"
   ]
  },
  {
   "cell_type": "code",
   "execution_count": 28,
   "id": "412fc338",
   "metadata": {},
   "outputs": [
    {
     "data": {
      "text/plain": [
       "0"
      ]
     },
     "execution_count": 28,
     "metadata": {},
     "output_type": "execute_result"
    }
   ],
   "source": [
    "# Modulus operator (%)\n",
    "4%2"
   ]
  },
  {
   "cell_type": "code",
   "execution_count": 29,
   "id": "54a62e4d",
   "metadata": {},
   "outputs": [
    {
     "data": {
      "text/plain": [
       "1"
      ]
     },
     "execution_count": 29,
     "metadata": {},
     "output_type": "execute_result"
    }
   ],
   "source": [
    "10%3"
   ]
  },
  {
   "cell_type": "code",
   "execution_count": 30,
   "id": "a09b1012",
   "metadata": {},
   "outputs": [
    {
     "data": {
      "text/plain": [
       "1"
      ]
     },
     "execution_count": 30,
     "metadata": {},
     "output_type": "execute_result"
    }
   ],
   "source": [
    "5%4"
   ]
  },
  {
   "cell_type": "code",
   "execution_count": 31,
   "id": "d7d2ee3a",
   "metadata": {},
   "outputs": [
    {
     "data": {
      "text/plain": [
       "1"
      ]
     },
     "execution_count": 31,
     "metadata": {},
     "output_type": "execute_result"
    }
   ],
   "source": [
    "5//4"
   ]
  },
  {
   "cell_type": "code",
   "execution_count": 32,
   "id": "a39fa3db",
   "metadata": {},
   "outputs": [
    {
     "name": "stdout",
     "output_type": "stream",
     "text": [
      "100.0\n"
     ]
    }
   ],
   "source": [
    "# here we are looking at mathematical operations in lieu of simple mathematical formulas\n",
    "base = 20\n",
    "height = 10\n",
    "Area_of_triangle = 0.5 *base*height\n",
    "print(Area_of_triangle)"
   ]
  },
  {
   "cell_type": "code",
   "execution_count": 33,
   "id": "11c107ca",
   "metadata": {},
   "outputs": [
    {
     "data": {
      "text/plain": [
       "0"
      ]
     },
     "execution_count": 33,
     "metadata": {},
     "output_type": "execute_result"
    }
   ],
   "source": [
    "4%2"
   ]
  },
  {
   "cell_type": "code",
   "execution_count": 34,
   "id": "980d03e8",
   "metadata": {},
   "outputs": [
    {
     "data": {
      "text/plain": [
       "1"
      ]
     },
     "execution_count": 34,
     "metadata": {},
     "output_type": "execute_result"
    }
   ],
   "source": [
    "67%2"
   ]
  },
  {
   "cell_type": "markdown",
   "id": "e6c230ae",
   "metadata": {},
   "source": [
    "# Control Flows"
   ]
  },
  {
   "cell_type": "markdown",
   "id": "07170133",
   "metadata": {},
   "source": [
    "< - less than \\\n",
    "'>' - greater than \\\n",
    "\n",
    "<=  - less than or equal to \\\n",
    "\n",
    "'>=' - greater than or equal to\\\n",
    "\n",
    "== - is\\\n",
    "\n",
    "!= - is not "
   ]
  },
  {
   "cell_type": "code",
   "execution_count": 35,
   "id": "92659940",
   "metadata": {},
   "outputs": [
    {
     "data": {
      "text/plain": [
       "True"
      ]
     },
     "execution_count": 35,
     "metadata": {},
     "output_type": "execute_result"
    }
   ],
   "source": [
    "4 == 4"
   ]
  },
  {
   "cell_type": "code",
   "execution_count": 36,
   "id": "f6f2529b",
   "metadata": {},
   "outputs": [
    {
     "data": {
      "text/plain": [
       "False"
      ]
     },
     "execution_count": 36,
     "metadata": {},
     "output_type": "execute_result"
    }
   ],
   "source": [
    "5 == 4"
   ]
  },
  {
   "cell_type": "code",
   "execution_count": 37,
   "id": "c27b20b9",
   "metadata": {},
   "outputs": [
    {
     "data": {
      "text/plain": [
       "True"
      ]
     },
     "execution_count": 37,
     "metadata": {},
     "output_type": "execute_result"
    }
   ],
   "source": [
    "5>4"
   ]
  },
  {
   "cell_type": "code",
   "execution_count": 38,
   "id": "f6eb5f94",
   "metadata": {},
   "outputs": [
    {
     "data": {
      "text/plain": [
       "True"
      ]
     },
     "execution_count": 38,
     "metadata": {},
     "output_type": "execute_result"
    }
   ],
   "source": [
    "5>=4"
   ]
  },
  {
   "cell_type": "code",
   "execution_count": 39,
   "id": "a1253b54",
   "metadata": {},
   "outputs": [
    {
     "data": {
      "text/plain": [
       "False"
      ]
     },
     "execution_count": 39,
     "metadata": {},
     "output_type": "execute_result"
    }
   ],
   "source": [
    "5<4"
   ]
  },
  {
   "cell_type": "code",
   "execution_count": 40,
   "id": "2ea0f375",
   "metadata": {},
   "outputs": [
    {
     "data": {
      "text/plain": [
       "True"
      ]
     },
     "execution_count": 40,
     "metadata": {},
     "output_type": "execute_result"
    }
   ],
   "source": [
    "4<=4"
   ]
  },
  {
   "cell_type": "code",
   "execution_count": 41,
   "id": "2bf1c44b",
   "metadata": {},
   "outputs": [
    {
     "data": {
      "text/plain": [
       "True"
      ]
     },
     "execution_count": 41,
     "metadata": {},
     "output_type": "execute_result"
    }
   ],
   "source": [
    "5!=6"
   ]
  },
  {
   "cell_type": "code",
   "execution_count": 42,
   "id": "a2a08250",
   "metadata": {},
   "outputs": [
    {
     "data": {
      "text/plain": [
       "False"
      ]
     },
     "execution_count": 42,
     "metadata": {},
     "output_type": "execute_result"
    }
   ],
   "source": [
    "6!=6"
   ]
  },
  {
   "cell_type": "markdown",
   "id": "d13e3bc9",
   "metadata": {},
   "source": [
    "## if conditional statements"
   ]
  },
  {
   "cell_type": "code",
   "execution_count": 46,
   "id": "a0260f77",
   "metadata": {},
   "outputs": [
    {
     "name": "stdout",
     "output_type": "stream",
     "text": [
      "Big\n"
     ]
    }
   ],
   "source": [
    "if 5>4: # here we see an if condition which starts with the word if followed by the conditional statement then after the statement \n",
    "        # it is closed off by a full colon\n",
    "    print('Big')# here after fulfilment of the condition the output here is to print the word Big"
   ]
  },
  {
   "cell_type": "code",
   "execution_count": 48,
   "id": "d293c653",
   "metadata": {},
   "outputs": [
    {
     "name": "stdout",
     "output_type": "stream",
     "text": [
      "Small\n"
     ]
    }
   ],
   "source": [
    "a = 5\n",
    "b = 6\n",
    "if a>b:\n",
    "    print('Big')\n",
    "else:\n",
    "    print('Small')\n",
    "    "
   ]
  },
  {
   "cell_type": "code",
   "execution_count": 49,
   "id": "a856f447",
   "metadata": {},
   "outputs": [
    {
     "data": {
      "text/plain": [
       "False"
      ]
     },
     "execution_count": 49,
     "metadata": {},
     "output_type": "execute_result"
    }
   ],
   "source": [
    "nums = 87"
   ]
  },
  {
   "cell_type": "code",
   "execution_count": 2,
   "id": "863c8493",
   "metadata": {},
   "outputs": [
    {
     "name": "stdout",
     "output_type": "stream",
     "text": [
      "equal\n"
     ]
    }
   ],
   "source": [
    "a = 20\n",
    "b = 20\n",
    "\n",
    "if a >b:\n",
    "    print('Big')\n",
    "elif a == b:\n",
    "    print('equal')\n",
    "else:\n",
    "    print('Small')"
   ]
  },
  {
   "cell_type": "code",
   "execution_count": null,
   "id": "24645afd",
   "metadata": {},
   "outputs": [],
   "source": []
  }
 ],
 "metadata": {
  "kernelspec": {
   "display_name": "Python 3 (ipykernel)",
   "language": "python",
   "name": "python3"
  },
  "language_info": {
   "codemirror_mode": {
    "name": "ipython",
    "version": 3
   },
   "file_extension": ".py",
   "mimetype": "text/x-python",
   "name": "python",
   "nbconvert_exporter": "python",
   "pygments_lexer": "ipython3",
   "version": "3.7.4"
  }
 },
 "nbformat": 4,
 "nbformat_minor": 5
}
