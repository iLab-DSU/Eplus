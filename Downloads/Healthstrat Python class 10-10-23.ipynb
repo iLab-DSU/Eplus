{
 "cells": [
  {
   "cell_type": "code",
   "execution_count": 2,
   "id": "eca490a4",
   "metadata": {},
   "outputs": [
    {
     "name": "stdout",
     "output_type": "stream",
     "text": [
      "Hello World\n"
     ]
    }
   ],
   "source": [
    "print('Hello World')"
   ]
  },
  {
   "cell_type": "code",
   "execution_count": 3,
   "id": "aac8c1be",
   "metadata": {},
   "outputs": [
    {
     "name": "stdout",
     "output_type": "stream",
     "text": [
      "2\n"
     ]
    }
   ],
   "source": [
    "print(1+1)"
   ]
  },
  {
   "cell_type": "code",
   "execution_count": 4,
   "id": "d6e1d91c",
   "metadata": {},
   "outputs": [
    {
     "name": "stdout",
     "output_type": "stream",
     "text": [
      "10.0\n"
     ]
    }
   ],
   "source": [
    "print(90/9)"
   ]
  },
  {
   "cell_type": "code",
   "execution_count": 5,
   "id": "eea4fbc7",
   "metadata": {},
   "outputs": [
    {
     "name": "stdout",
     "output_type": "stream",
     "text": [
      "8\n"
     ]
    }
   ],
   "source": [
    "print(2*4)"
   ]
  },
  {
   "cell_type": "markdown",
   "id": "64e15bd5",
   "metadata": {},
   "source": [
    "# Variable Types"
   ]
  },
  {
   "cell_type": "markdown",
   "id": "f5304b8d",
   "metadata": {},
   "source": [
    "Strings (str) - Is anything that is found in **between two quotation marks** e.g \"Hello World\"\\\n",
    "Integers (int)- Is any **real** and **whole number**\\\n",
    "Floats (float)- Is any **Fraction** of a number\\\n",
    "Boolean (bool)- Represents the Binary state of either **True** or **False** \n"
   ]
  },
  {
   "cell_type": "code",
   "execution_count": 8,
   "id": "86ee096e",
   "metadata": {},
   "outputs": [
    {
     "data": {
      "text/plain": [
       "str"
      ]
     },
     "execution_count": 8,
     "metadata": {},
     "output_type": "execute_result"
    }
   ],
   "source": [
    "type('Hello World')"
   ]
  },
  {
   "cell_type": "code",
   "execution_count": 9,
   "id": "bca203a1",
   "metadata": {},
   "outputs": [
    {
     "data": {
      "text/plain": [
       "int"
      ]
     },
     "execution_count": 9,
     "metadata": {},
     "output_type": "execute_result"
    }
   ],
   "source": [
    "type(1)"
   ]
  },
  {
   "cell_type": "code",
   "execution_count": 10,
   "id": "66899974",
   "metadata": {},
   "outputs": [
    {
     "data": {
      "text/plain": [
       "float"
      ]
     },
     "execution_count": 10,
     "metadata": {},
     "output_type": "execute_result"
    }
   ],
   "source": [
    "type(2.5)"
   ]
  },
  {
   "cell_type": "code",
   "execution_count": 13,
   "id": "f677f152",
   "metadata": {},
   "outputs": [
    {
     "data": {
      "text/plain": [
       "bool"
      ]
     },
     "execution_count": 13,
     "metadata": {},
     "output_type": "execute_result"
    }
   ],
   "source": [
    "type(False)"
   ]
  },
  {
   "cell_type": "code",
   "execution_count": 18,
   "id": "87fcc16e",
   "metadata": {},
   "outputs": [
    {
     "data": {
      "text/plain": [
       "int"
      ]
     },
     "execution_count": 18,
     "metadata": {},
     "output_type": "execute_result"
    }
   ],
   "source": [
    "type(int('3'))"
   ]
  },
  {
   "cell_type": "code",
   "execution_count": 20,
   "id": "23e02e05",
   "metadata": {},
   "outputs": [
    {
     "data": {
      "text/plain": [
       "4.0"
      ]
     },
     "execution_count": 20,
     "metadata": {},
     "output_type": "execute_result"
    }
   ],
   "source": [
    "float(4)"
   ]
  },
  {
   "cell_type": "code",
   "execution_count": 23,
   "id": "4068d476",
   "metadata": {},
   "outputs": [
    {
     "data": {
      "text/plain": [
       "str"
      ]
     },
     "execution_count": 23,
     "metadata": {},
     "output_type": "execute_result"
    }
   ],
   "source": [
    "type(str(float(7)))"
   ]
  },
  {
   "cell_type": "code",
   "execution_count": 24,
   "id": "881ec86b",
   "metadata": {},
   "outputs": [
    {
     "data": {
      "text/plain": [
       "bool"
      ]
     },
     "execution_count": 24,
     "metadata": {},
     "output_type": "execute_result"
    }
   ],
   "source": [
    "type(True)"
   ]
  },
  {
   "cell_type": "code",
   "execution_count": 28,
   "id": "b6b60264",
   "metadata": {},
   "outputs": [
    {
     "data": {
      "text/plain": [
       "False"
      ]
     },
     "execution_count": 28,
     "metadata": {},
     "output_type": "execute_result"
    }
   ],
   "source": [
    "bool(False)"
   ]
  },
  {
   "cell_type": "code",
   "execution_count": 29,
   "id": "d28a566e",
   "metadata": {},
   "outputs": [
    {
     "data": {
      "text/plain": [
       "False"
      ]
     },
     "execution_count": 29,
     "metadata": {},
     "output_type": "execute_result"
    }
   ],
   "source": [
    "bool()"
   ]
  },
  {
   "cell_type": "code",
   "execution_count": 32,
   "id": "cfd9b702",
   "metadata": {},
   "outputs": [
    {
     "data": {
      "text/plain": [
       "True"
      ]
     },
     "execution_count": 32,
     "metadata": {},
     "output_type": "execute_result"
    }
   ],
   "source": [
    "bool('False')"
   ]
  },
  {
   "cell_type": "code",
   "execution_count": 33,
   "id": "d5f581b2",
   "metadata": {},
   "outputs": [
    {
     "data": {
      "text/plain": [
       "True"
      ]
     },
     "execution_count": 33,
     "metadata": {},
     "output_type": "execute_result"
    }
   ],
   "source": [
    "bool('90')"
   ]
  },
  {
   "cell_type": "code",
   "execution_count": 35,
   "id": "271962d0",
   "metadata": {},
   "outputs": [
    {
     "data": {
      "text/plain": [
       "True"
      ]
     },
     "execution_count": 35,
     "metadata": {},
     "output_type": "execute_result"
    }
   ],
   "source": [
    "bool('9.0')"
   ]
  },
  {
   "cell_type": "code",
   "execution_count": 36,
   "id": "a8d29af2",
   "metadata": {},
   "outputs": [
    {
     "data": {
      "text/plain": [
       "False"
      ]
     },
     "execution_count": 36,
     "metadata": {},
     "output_type": "execute_result"
    }
   ],
   "source": [
    "bool()"
   ]
  },
  {
   "cell_type": "code",
   "execution_count": 37,
   "id": "1506a682",
   "metadata": {},
   "outputs": [
    {
     "data": {
      "text/plain": [
       "False"
      ]
     },
     "execution_count": 37,
     "metadata": {},
     "output_type": "execute_result"
    }
   ],
   "source": [
    "bool(False)"
   ]
  },
  {
   "cell_type": "markdown",
   "id": "bd81086d",
   "metadata": {},
   "source": [
    "## Operators\n",
    "- Assignment Operator\n",
    "- Mathematical Operators"
   ]
  },
  {
   "cell_type": "code",
   "execution_count": 8,
   "id": "c3928418",
   "metadata": {},
   "outputs": [],
   "source": [
    "Integers = 9"
   ]
  },
  {
   "cell_type": "code",
   "execution_count": 7,
   "id": "9476de49",
   "metadata": {},
   "outputs": [],
   "source": [
    "Integer = 10"
   ]
  },
  {
   "cell_type": "code",
   "execution_count": 9,
   "id": "edc52b2a",
   "metadata": {},
   "outputs": [
    {
     "name": "stdout",
     "output_type": "stream",
     "text": [
      "9\n",
      "10\n"
     ]
    }
   ],
   "source": [
    "print(Integers)\n",
    "print(Integer)"
   ]
  },
  {
   "cell_type": "code",
   "execution_count": 10,
   "id": "82a48195",
   "metadata": {},
   "outputs": [
    {
     "ename": "SyntaxError",
     "evalue": "invalid syntax (<ipython-input-10-4c068c8e3076>, line 1)",
     "output_type": "error",
     "traceback": [
      "\u001b[1;36m  File \u001b[1;32m\"<ipython-input-10-4c068c8e3076>\"\u001b[1;36m, line \u001b[1;32m1\u001b[0m\n\u001b[1;33m    Number floats = 89.01\u001b[0m\n\u001b[1;37m                ^\u001b[0m\n\u001b[1;31mSyntaxError\u001b[0m\u001b[1;31m:\u001b[0m invalid syntax\n"
     ]
    }
   ],
   "source": [
    "Number floats = 89.01"
   ]
  },
  {
   "cell_type": "code",
   "execution_count": 11,
   "id": "1062a0b0",
   "metadata": {},
   "outputs": [],
   "source": [
    "Number_floats = 89.01"
   ]
  },
  {
   "cell_type": "code",
   "execution_count": 12,
   "id": "8debad6b",
   "metadata": {},
   "outputs": [],
   "source": [
    "names = 'Alvin'"
   ]
  },
  {
   "cell_type": "code",
   "execution_count": 13,
   "id": "c51bd141",
   "metadata": {},
   "outputs": [
    {
     "name": "stdout",
     "output_type": "stream",
     "text": [
      "Alvin\n"
     ]
    }
   ],
   "source": [
    "print(names)"
   ]
  },
  {
   "cell_type": "code",
   "execution_count": 14,
   "id": "ac1029b2",
   "metadata": {},
   "outputs": [
    {
     "data": {
      "text/plain": [
       "str"
      ]
     },
     "execution_count": 14,
     "metadata": {},
     "output_type": "execute_result"
    }
   ],
   "source": [
    "type(names)"
   ]
  },
  {
   "cell_type": "code",
   "execution_count": 15,
   "id": "4fbb3037",
   "metadata": {},
   "outputs": [
    {
     "data": {
      "text/plain": [
       "int"
      ]
     },
     "execution_count": 15,
     "metadata": {},
     "output_type": "execute_result"
    }
   ],
   "source": [
    "type(Integers)"
   ]
  },
  {
   "cell_type": "code",
   "execution_count": 16,
   "id": "34075dd3",
   "metadata": {},
   "outputs": [
    {
     "data": {
      "text/plain": [
       "float"
      ]
     },
     "execution_count": 16,
     "metadata": {},
     "output_type": "execute_result"
    }
   ],
   "source": [
    "type(Number_floats)"
   ]
  },
  {
   "cell_type": "markdown",
   "id": "401d172c",
   "metadata": {},
   "source": [
    "### Mathematical Operators\n",
    "- Addition\n",
    "- Subtraction\n",
    "- Multiplication\n",
    "- Division\n",
    "- Integer Division\n",
    "- Modulus Operator"
   ]
  },
  {
   "cell_type": "code",
   "execution_count": 17,
   "id": "829a8e42",
   "metadata": {},
   "outputs": [],
   "source": [
    "N1= 1\n",
    "n2 = 2"
   ]
  },
  {
   "cell_type": "code",
   "execution_count": 18,
   "id": "76da7a53",
   "metadata": {},
   "outputs": [
    {
     "data": {
      "text/plain": [
       "3"
      ]
     },
     "execution_count": 18,
     "metadata": {},
     "output_type": "execute_result"
    }
   ],
   "source": [
    "N1+n2"
   ]
  },
  {
   "cell_type": "code",
   "execution_count": 19,
   "id": "b2560e08",
   "metadata": {},
   "outputs": [
    {
     "data": {
      "text/plain": [
       "1"
      ]
     },
     "execution_count": 19,
     "metadata": {},
     "output_type": "execute_result"
    }
   ],
   "source": [
    "n2-N1"
   ]
  },
  {
   "cell_type": "code",
   "execution_count": 20,
   "id": "6f97aff3",
   "metadata": {},
   "outputs": [
    {
     "data": {
      "text/plain": [
       "2"
      ]
     },
     "execution_count": 20,
     "metadata": {},
     "output_type": "execute_result"
    }
   ],
   "source": [
    "N1*n2"
   ]
  },
  {
   "cell_type": "code",
   "execution_count": 21,
   "id": "d71256b3",
   "metadata": {},
   "outputs": [
    {
     "data": {
      "text/plain": [
       "0.3333333333333333"
      ]
     },
     "execution_count": 21,
     "metadata": {},
     "output_type": "execute_result"
    }
   ],
   "source": [
    "(n2-N1)/(N1+n2)"
   ]
  },
  {
   "cell_type": "code",
   "execution_count": 22,
   "id": "86187551",
   "metadata": {},
   "outputs": [],
   "source": [
    "N3 = 89\n",
    "n4 = 3"
   ]
  },
  {
   "cell_type": "code",
   "execution_count": 23,
   "id": "bc0b1a2a",
   "metadata": {},
   "outputs": [
    {
     "data": {
      "text/plain": [
       "29.666666666666668"
      ]
     },
     "execution_count": 23,
     "metadata": {},
     "output_type": "execute_result"
    }
   ],
   "source": [
    "N3/n4"
   ]
  },
  {
   "cell_type": "code",
   "execution_count": 24,
   "id": "ba6ad42b",
   "metadata": {},
   "outputs": [
    {
     "data": {
      "text/plain": [
       "29"
      ]
     },
     "execution_count": 24,
     "metadata": {},
     "output_type": "execute_result"
    }
   ],
   "source": [
    "# Integer Division - carries out Truncation\n",
    "\n",
    "N3//n4"
   ]
  },
  {
   "cell_type": "code",
   "execution_count": 28,
   "id": "705338b0",
   "metadata": {},
   "outputs": [
    {
     "data": {
      "text/plain": [
       "0"
      ]
     },
     "execution_count": 28,
     "metadata": {},
     "output_type": "execute_result"
    }
   ],
   "source": [
    "# Modulus operator (%)\n",
    "4%2"
   ]
  },
  {
   "cell_type": "code",
   "execution_count": 29,
   "id": "7d320b79",
   "metadata": {},
   "outputs": [
    {
     "data": {
      "text/plain": [
       "1"
      ]
     },
     "execution_count": 29,
     "metadata": {},
     "output_type": "execute_result"
    }
   ],
   "source": [
    "10%3"
   ]
  },
  {
   "cell_type": "code",
   "execution_count": 30,
   "id": "eef0f958",
   "metadata": {},
   "outputs": [
    {
     "data": {
      "text/plain": [
       "1"
      ]
     },
     "execution_count": 30,
     "metadata": {},
     "output_type": "execute_result"
    }
   ],
   "source": [
    "5%4"
   ]
  },
  {
   "cell_type": "code",
   "execution_count": 31,
   "id": "54f50dac",
   "metadata": {},
   "outputs": [
    {
     "data": {
      "text/plain": [
       "1"
      ]
     },
     "execution_count": 31,
     "metadata": {},
     "output_type": "execute_result"
    }
   ],
   "source": [
    "5//4"
   ]
  },
  {
   "cell_type": "code",
   "execution_count": 32,
   "id": "1d8632b7",
   "metadata": {},
   "outputs": [
    {
     "name": "stdout",
     "output_type": "stream",
     "text": [
      "100.0\n"
     ]
    }
   ],
   "source": [
    "# here we are looking at mathematical operations in lieu of simple mathematical formulas\n",
    "base = 20\n",
    "height = 10\n",
    "Area_of_triangle = 0.5 *base*height\n",
    "print(Area_of_triangle)"
   ]
  },
  {
   "cell_type": "code",
   "execution_count": 33,
   "id": "ee7e07d2",
   "metadata": {},
   "outputs": [
    {
     "data": {
      "text/plain": [
       "0"
      ]
     },
     "execution_count": 33,
     "metadata": {},
     "output_type": "execute_result"
    }
   ],
   "source": [
    "4%2"
   ]
  },
  {
   "cell_type": "code",
   "execution_count": 34,
   "id": "1b8af2a9",
   "metadata": {},
   "outputs": [
    {
     "data": {
      "text/plain": [
       "1"
      ]
     },
     "execution_count": 34,
     "metadata": {},
     "output_type": "execute_result"
    }
   ],
   "source": [
    "67%2"
   ]
  },
  {
   "cell_type": "markdown",
   "id": "8151dc90",
   "metadata": {},
   "source": [
    "# Control Flows"
   ]
  },
  {
   "cell_type": "markdown",
   "id": "6e6cc4ac",
   "metadata": {},
   "source": [
    "< - less than \\\n",
    "'>' - greater than \\\n",
    "\n",
    "<=  - less than or equal to \\\n",
    "\n",
    "'>=' - greater than or equal to\\\n",
    "\n",
    "== - is\\\n",
    "\n",
    "!= - is not "
   ]
  },
  {
   "cell_type": "code",
   "execution_count": 35,
   "id": "ce1fb02e",
   "metadata": {},
   "outputs": [
    {
     "data": {
      "text/plain": [
       "True"
      ]
     },
     "execution_count": 35,
     "metadata": {},
     "output_type": "execute_result"
    }
   ],
   "source": [
    "4 == 4"
   ]
  },
  {
   "cell_type": "code",
   "execution_count": 36,
   "id": "c7418af8",
   "metadata": {},
   "outputs": [
    {
     "data": {
      "text/plain": [
       "False"
      ]
     },
     "execution_count": 36,
     "metadata": {},
     "output_type": "execute_result"
    }
   ],
   "source": [
    "5 == 4"
   ]
  },
  {
   "cell_type": "code",
   "execution_count": 37,
   "id": "eb384433",
   "metadata": {},
   "outputs": [
    {
     "data": {
      "text/plain": [
       "True"
      ]
     },
     "execution_count": 37,
     "metadata": {},
     "output_type": "execute_result"
    }
   ],
   "source": [
    "5>4"
   ]
  },
  {
   "cell_type": "code",
   "execution_count": 38,
   "id": "efb29b72",
   "metadata": {},
   "outputs": [
    {
     "data": {
      "text/plain": [
       "True"
      ]
     },
     "execution_count": 38,
     "metadata": {},
     "output_type": "execute_result"
    }
   ],
   "source": [
    "5>=4"
   ]
  },
  {
   "cell_type": "code",
   "execution_count": 39,
   "id": "39bd0a60",
   "metadata": {},
   "outputs": [
    {
     "data": {
      "text/plain": [
       "False"
      ]
     },
     "execution_count": 39,
     "metadata": {},
     "output_type": "execute_result"
    }
   ],
   "source": [
    "5<4"
   ]
  },
  {
   "cell_type": "code",
   "execution_count": 40,
   "id": "22358dcb",
   "metadata": {},
   "outputs": [
    {
     "data": {
      "text/plain": [
       "True"
      ]
     },
     "execution_count": 40,
     "metadata": {},
     "output_type": "execute_result"
    }
   ],
   "source": [
    "4<=4"
   ]
  },
  {
   "cell_type": "code",
   "execution_count": 41,
   "id": "bbbfb26c",
   "metadata": {},
   "outputs": [
    {
     "data": {
      "text/plain": [
       "True"
      ]
     },
     "execution_count": 41,
     "metadata": {},
     "output_type": "execute_result"
    }
   ],
   "source": [
    "5!=6"
   ]
  },
  {
   "cell_type": "code",
   "execution_count": 42,
   "id": "f115e727",
   "metadata": {},
   "outputs": [
    {
     "data": {
      "text/plain": [
       "False"
      ]
     },
     "execution_count": 42,
     "metadata": {},
     "output_type": "execute_result"
    }
   ],
   "source": [
    "6!=6"
   ]
  },
  {
   "cell_type": "markdown",
   "id": "405a5313",
   "metadata": {},
   "source": [
    "## if conditional statements"
   ]
  },
  {
   "cell_type": "code",
   "execution_count": 46,
   "id": "d79f637d",
   "metadata": {},
   "outputs": [
    {
     "name": "stdout",
     "output_type": "stream",
     "text": [
      "Big\n"
     ]
    }
   ],
   "source": [
    "if 5>4: # here we see an if condition which starts with the word if followed by the conditional statement then after the statement \n",
    "        # it is closed off by a full colon\n",
    "    print('Big')# here after fulfilment of the condition the output here is to print the word Big"
   ]
  },
  {
   "cell_type": "code",
   "execution_count": 48,
   "id": "1439824f",
   "metadata": {},
   "outputs": [
    {
     "name": "stdout",
     "output_type": "stream",
     "text": [
      "Small\n"
     ]
    }
   ],
   "source": [
    "a = 5\n",
    "b = 6\n",
    "if a>b:\n",
    "    print('Big')\n",
    "else:\n",
    "    print('Small')\n",
    "    "
   ]
  },
  {
   "cell_type": "code",
   "execution_count": 49,
   "id": "a860aafc",
   "metadata": {},
   "outputs": [
    {
     "data": {
      "text/plain": [
       "False"
      ]
     },
     "execution_count": 49,
     "metadata": {},
     "output_type": "execute_result"
    }
   ],
   "source": [
    "nums = 87"
   ]
  },
  {
   "cell_type": "code",
   "execution_count": 2,
   "id": "61545feb",
   "metadata": {},
   "outputs": [
    {
     "name": "stdout",
     "output_type": "stream",
     "text": [
      "equal\n"
     ]
    }
   ],
   "source": [
    "a = 0\n",
    "b = 20\n",
    "\n",
    "if a >b:\n",
    "    print('Big')\n",
    "elif a == b:\n",
    "    print('equal')\n",
    "else:\n",
    "    print('Small')"
   ]
  },
  {
   "cell_type": "code",
   "execution_count": 6,
   "id": "63e7edcc",
   "metadata": {},
   "outputs": [
    {
     "name": "stdout",
     "output_type": "stream",
     "text": [
      "Small or Equal\n"
     ]
    }
   ],
   "source": [
    "# Nested if condition\n",
    "a = 4\n",
    "b = 6\n",
    "# checking if 'a' is greater than b and if 'a' is an even number\n",
    "if a > b:\n",
    "    if a%2==0:\n",
    "        print('Big and Even')\n",
    "    else:\n",
    "        print('Big and Odd')\n",
    "else:\n",
    "    print('Small or Equal')"
   ]
  },
  {
   "cell_type": "markdown",
   "id": "c304dc4d",
   "metadata": {},
   "source": [
    "# Create a code without the use of ChatGPT or the internet that checks if a number is divisible by 6 (it has to be divisible by both 2 and 3)\n"
   ]
  },
  {
   "cell_type": "code",
   "execution_count": 8,
   "id": "5056d0f0",
   "metadata": {},
   "outputs": [
    {
     "name": "stdout",
     "output_type": "stream",
     "text": [
      "Not Divisible by 6\n"
     ]
    }
   ],
   "source": [
    "number = 15\n",
    "if number%2==0:\n",
    "    if number%3==0:\n",
    "        print('Divisible by 6')\n",
    "    else:\n",
    "        print('Divisible by 2 and not by 6')\n",
    "else:\n",
    "    print('Not Divisible by 6')"
   ]
  },
  {
   "cell_type": "code",
   "execution_count": 9,
   "id": "29351b9e",
   "metadata": {},
   "outputs": [
    {
     "name": "stdout",
     "output_type": "stream",
     "text": [
      "Not Divisible by 6\n"
     ]
    }
   ],
   "source": [
    "if number%2 ==0 and number%3 ==0:\n",
    "    print('Divisible by 6')\n",
    "else:\n",
    "    print('Not Divisible by 6')"
   ]
  },
  {
   "cell_type": "code",
   "execution_count": 10,
   "id": "55ed486c",
   "metadata": {},
   "outputs": [
    {
     "name": "stdout",
     "output_type": "stream",
     "text": [
      "Not Divisible\n"
     ]
    }
   ],
   "source": [
    "if number%6 ==0:\n",
    "    print('Divisible')\n",
    "else:\n",
    "    print('Not Divisible')"
   ]
  },
  {
   "cell_type": "markdown",
   "id": "fdb06e1b",
   "metadata": {},
   "source": [
    "### Create a Grading Scheme that looks at the marks attained and grades the score given the Grading scheme below;\n",
    "- A (85+)\n",
    "- A- (80-84)\n",
    "- B+ (75-79)\n",
    "- B (70-74)\n",
    "- B- (65-69)\n",
    "- C+ (60-64)\n",
    "- C (55-60)\n",
    "- C- (50-54)\n",
    "- F (below 50)"
   ]
  },
  {
   "cell_type": "markdown",
   "id": "bb8b3eb6",
   "metadata": {},
   "source": [
    "78 --> B+ \\\n",
    "45 --> F \\\n",
    "101 --> this is an error\\\n",
    "-1 --> this is an error"
   ]
  },
  {
   "cell_type": "markdown",
   "id": "b569b335",
   "metadata": {},
   "source": [
    "and & , or |"
   ]
  },
  {
   "cell_type": "code",
   "execution_count": 16,
   "id": "4dc03ce0",
   "metadata": {
    "scrolled": true
   },
   "outputs": [
    {
     "name": "stdout",
     "output_type": "stream",
     "text": [
      "Alvin\n"
     ]
    }
   ],
   "source": [
    "# Input function - Prompts the user to input a value\n",
    "Name = input()"
   ]
  },
  {
   "cell_type": "code",
   "execution_count": 19,
   "id": "52eb9afc",
   "metadata": {},
   "outputs": [
    {
     "name": "stdout",
     "output_type": "stream",
     "text": [
      "Input second Name: Igobwa\n"
     ]
    }
   ],
   "source": [
    "Second_Name = input('Input second Name: ')"
   ]
  },
  {
   "cell_type": "code",
   "execution_count": 20,
   "id": "1f59db89",
   "metadata": {},
   "outputs": [
    {
     "data": {
      "text/plain": [
       "'AlvinIgobwa'"
      ]
     },
     "execution_count": 20,
     "metadata": {},
     "output_type": "execute_result"
    }
   ],
   "source": [
    "Name + Second_Name"
   ]
  },
  {
   "cell_type": "code",
   "execution_count": 25,
   "id": "6452f80b",
   "metadata": {},
   "outputs": [
    {
     "data": {
      "text/plain": [
       "'AlvinAlvin'"
      ]
     },
     "execution_count": 25,
     "metadata": {},
     "output_type": "execute_result"
    }
   ],
   "source": [
    "Name*2"
   ]
  },
  {
   "cell_type": "code",
   "execution_count": 26,
   "id": "0358b948",
   "metadata": {},
   "outputs": [
    {
     "name": "stdout",
     "output_type": "stream",
     "text": [
      "Enter your Age: 67\n"
     ]
    }
   ],
   "source": [
    "Age = input('Enter your Age: ')"
   ]
  },
  {
   "cell_type": "code",
   "execution_count": 27,
   "id": "c35a03ed",
   "metadata": {},
   "outputs": [
    {
     "data": {
      "text/plain": [
       "str"
      ]
     },
     "execution_count": 27,
     "metadata": {},
     "output_type": "execute_result"
    }
   ],
   "source": [
    "type(Age)"
   ]
  },
  {
   "cell_type": "code",
   "execution_count": 28,
   "id": "461ae950",
   "metadata": {},
   "outputs": [
    {
     "data": {
      "text/plain": [
       "int"
      ]
     },
     "execution_count": 28,
     "metadata": {},
     "output_type": "execute_result"
    }
   ],
   "source": [
    "type(int(Age))"
   ]
  },
  {
   "cell_type": "code",
   "execution_count": 29,
   "id": "d5e6113d",
   "metadata": {},
   "outputs": [
    {
     "name": "stdout",
     "output_type": "stream",
     "text": [
      "Enter your age: 56\n"
     ]
    }
   ],
   "source": [
    "Age = int(input('Enter your age: '))"
   ]
  },
  {
   "cell_type": "code",
   "execution_count": 30,
   "id": "f94d749a",
   "metadata": {},
   "outputs": [
    {
     "data": {
      "text/plain": [
       "int"
      ]
     },
     "execution_count": 30,
     "metadata": {},
     "output_type": "execute_result"
    }
   ],
   "source": [
    "type(Age)"
   ]
  },
  {
   "cell_type": "code",
   "execution_count": null,
   "id": "71e3f528",
   "metadata": {},
   "outputs": [],
   "source": []
  }
 ],
 "metadata": {
  "kernelspec": {
   "display_name": "Python 3 (ipykernel)",
   "language": "python",
   "name": "python3"
  },
  "language_info": {
   "codemirror_mode": {
    "name": "ipython",
    "version": 3
   },
   "file_extension": ".py",
   "mimetype": "text/x-python",
   "name": "python",
   "nbconvert_exporter": "python",
   "pygments_lexer": "ipython3",
   "version": "3.7.4"
  }
 },
 "nbformat": 4,
 "nbformat_minor": 5
}
