{
 "cells": [
  {
   "cell_type": "code",
   "execution_count": 1,
   "id": "fcc2b904",
   "metadata": {},
   "outputs": [],
   "source": [
    "import pyodbc\n",
    "import pymssql\n",
    "import snowflake.connector\n",
    "from sqlalchemy import create_engine\n",
    "import os\n",
    "import re\n"
   ]
  },
  {
   "cell_type": "code",
   "execution_count": 2,
   "id": "81a61d8a",
   "metadata": {},
   "outputs": [],
   "source": []
  },
  {
   "cell_type": "code",
   "execution_count": 2,
   "id": "72aacc1f",
   "metadata": {},
   "outputs": [
    {
     "ename": "OperationalError",
     "evalue": "('08001', '[08001] [Microsoft][ODBC SQL Server Driver][DBNETLIB]SQL Server does not exist or access denied. (17) (SQLDriverConnect); [08001] [Microsoft][ODBC SQL Server Driver][DBNETLIB]ConnectionOpen (Connect()). (123)')",
     "output_type": "error",
     "traceback": [
      "\u001b[1;31m---------------------------------------------------------------------------\u001b[0m",
      "\u001b[1;31mOperationalError\u001b[0m                          Traceback (most recent call last)",
      "\u001b[1;32m<ipython-input-2-a2190f18b15c>\u001b[0m in \u001b[0;36m<module>\u001b[1;34m\u001b[0m\n\u001b[0;32m      1\u001b[0m pyodbc.connect('''DRIVER={SQL Server};\n\u001b[0;32m      2\u001b[0m                   \u001b[0mSERVER\u001b[0m\u001b[1;33m=\u001b[0m\u001b[0mudp\u001b[0m\u001b[1;33m:\u001b[0m\u001b[0mCRM200\u001b[0m\u001b[0;31m\\\u001b[0m\u001b[0mCRMSANDBOX\u001b[0m\u001b[1;33m;\u001b[0m\u001b[1;33m\u001b[0m\u001b[1;33m\u001b[0m\u001b[0m\n\u001b[1;32m----> 3\u001b[1;33m                   DATABASE=Membership_MSCRM;''')\n\u001b[0m\u001b[0;32m      4\u001b[0m \u001b[1;31m# conn = pyodbc.connect(conn_str)\u001b[0m\u001b[1;33m\u001b[0m\u001b[1;33m\u001b[0m\u001b[1;33m\u001b[0m\u001b[0m\n\u001b[0;32m      5\u001b[0m \u001b[1;31m# cursor = conn.cursor()\u001b[0m\u001b[1;33m\u001b[0m\u001b[1;33m\u001b[0m\u001b[1;33m\u001b[0m\u001b[0m\n",
      "\u001b[1;31mOperationalError\u001b[0m: ('08001', '[08001] [Microsoft][ODBC SQL Server Driver][DBNETLIB]SQL Server does not exist or access denied. (17) (SQLDriverConnect); [08001] [Microsoft][ODBC SQL Server Driver][DBNETLIB]ConnectionOpen (Connect()). (123)')"
     ]
    }
   ],
   "source": [
    "pyodbc.connect('''DRIVER={SQL Server};\n",
    "                  SERVER=udp:CRM200\\CRMSANDBOX;\n",
    "                  DATABASE=Membership_MSCRM;''')\n",
    "# conn = pyodbc.connect(conn_str)\n",
    "# cursor = conn.cursor()\n",
    "# cursor.execute(\"SELECT TOP(1000) * FROM sometable\")\n",
    "\n",
    "# for row in cursor:\n",
    "#     print(row)"
   ]
  },
  {
   "cell_type": "code",
   "execution_count": null,
   "id": "48908fe1",
   "metadata": {},
   "outputs": [],
   "source": []
  },
  {
   "cell_type": "code",
   "execution_count": null,
   "id": "19ade796",
   "metadata": {},
   "outputs": [],
   "source": []
  }
 ],
 "metadata": {
  "kernelspec": {
   "display_name": "Python 3 (ipykernel)",
   "language": "python",
   "name": "python3"
  },
  "language_info": {
   "codemirror_mode": {
    "name": "ipython",
    "version": 3
   },
   "file_extension": ".py",
   "mimetype": "text/x-python",
   "name": "python",
   "nbconvert_exporter": "python",
   "pygments_lexer": "ipython3",
   "version": "3.7.4"
  }
 },
 "nbformat": 4,
 "nbformat_minor": 5
}
